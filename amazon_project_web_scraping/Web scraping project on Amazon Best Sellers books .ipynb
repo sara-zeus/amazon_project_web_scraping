{
 "cells": [
  {
   "cell_type": "code",
   "execution_count": 4,
   "id": "d9f305bf",
   "metadata": {},
   "outputs": [],
   "source": [
    "from bs4 import BeautifulSoup\n",
    "import requests\n",
    "import csv"
   ]
  },
  {
   "cell_type": "code",
   "execution_count": 5,
   "id": "e57f9367",
   "metadata": {},
   "outputs": [],
   "source": [
    "# get the html\n",
    "url = \"https://www.amazon.com/Best-Sellers-Books/zgbs/books\"\n",
    "\n",
    "headers = {'user-agent': 'Mozilla/5.0 (Macintosh; Intel Mac OS X 10_15_7) AppleWebKit/605.1.15 (KHTML, like Gecko) Version/15.3 Safari/605.1.15'}\n",
    "\n",
    "page = requests.get(url, headers=headers)\n",
    "page = requests.get(url)\n",
    "\n",
    "\n",
    "\n",
    "soup = BeautifulSoup(page.content, 'html.parser')\n",
    "\n",
    "# get all the books\n",
    "books = soup.find_all(id=\"gridItemRoot\")\n",
    "\n",
    "#create the cvs \n",
    "\n",
    "csv_headers = ['Rank', 'Title', 'Author', 'Price']\n",
    "with open('amazon_books1.csv', 'w', encoding='utf-8', newline='') as f:\n",
    "    writer = csv.writer(f)\n",
    "    writer.writerow(csv_headers)\n",
    "\n",
    "# forloop to append all the books into the cvs file \n",
    "for book in books:\n",
    "\n",
    "    rank = book.find('span', class_='zg-bdg-text').text[1:]\n",
    "\n",
    "    children = book.find('div', class_='zg-grid-general-faceout').div\n",
    "\n",
    "    title = children.contents[1].text\n",
    "    author = children.contents[2].text\n",
    "    price = children.contents[-1].text\n",
    "   \n",
    "    with open('amazon_books1.csv', 'a', encoding='utf-8', newline='') as f:\n",
    "        writer = csv.writer(f)\n",
    "        writer.writerow([rank, title, author, price])\n"
   ]
  },
  {
   "cell_type": "code",
   "execution_count": 15,
   "id": "c7f97fda",
   "metadata": {},
   "outputs": [],
   "source": []
  },
  {
   "cell_type": "code",
   "execution_count": null,
   "id": "b572094d",
   "metadata": {},
   "outputs": [],
   "source": []
  }
 ],
 "metadata": {
  "kernelspec": {
   "display_name": "Python 3 (ipykernel)",
   "language": "python",
   "name": "python3"
  },
  "language_info": {
   "codemirror_mode": {
    "name": "ipython",
    "version": 3
   },
   "file_extension": ".py",
   "mimetype": "text/x-python",
   "name": "python",
   "nbconvert_exporter": "python",
   "pygments_lexer": "ipython3",
   "version": "3.10.9"
  }
 },
 "nbformat": 4,
 "nbformat_minor": 5
}
